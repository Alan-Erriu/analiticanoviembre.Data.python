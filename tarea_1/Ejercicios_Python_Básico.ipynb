{
  "cells": [
    {
      "cell_type": "markdown",
      "id": "a5e8e1c1",
      "metadata": {
        "id": "a5e8e1c1"
      },
      "source": [
        "![](https://i.pinimg.com/originals/73/20/2a/73202af19e27fbfac7acddeb1763e789.jpg)\n",
        "\n",
        "\n",
        "### 1.1\n",
        "Escribir un script que pregunte el nombre del usuario, luego muestre por pantalla el siguiente mensaje:\n",
        "\n",
        "¡Hola ``nombre``!, tu nombre tiene ``cantidad_de_letras`` letras\n",
        "\n",
        "\n",
        "- ``nombre`` es el nombre que el usuario haya introducido.\n",
        "- ``cantidad_de_letras`` es la cantidad de letras que posee ``nombre``"
      ]
    },
    {
      "cell_type": "code",
      "execution_count": 2,
      "id": "xIaMttORFHNh",
      "metadata": {
        "colab": {
          "base_uri": "https://localhost:8080/"
        },
        "id": "xIaMttORFHNh",
        "outputId": "608c8f6d-c2cd-4438-c3d3-e6fc7a90e959"
      },
      "outputs": [
        {
          "name": "stdout",
          "output_type": "stream",
          "text": [
            "Ingrese su nombre por favor Alan\n",
            "Hola Alan!, tu nombre tiene 4 letras\n"
          ]
        }
      ],
      "source": [
        "nombre = input('Ingrese su nombre por favor ')\n",
        "print(f'Hola {nombre}!, tu nombre tiene {len(nombre)} letras')"
      ]
    },
    {
      "cell_type": "markdown",
      "id": "dc225348",
      "metadata": {
        "id": "dc225348"
      },
      "source": [
        "### 1.2\n",
        "Escribir un script que pregunte el nombre y apellido del usuario y después muestre el nombre completo del usuario tres veces:\n",
        "\n",
        "- una con todas las letras minúsculas\n",
        "- otra con todas las letras mayúsculas\n",
        "- otra solo con la primera letra del nombre y de los apellidos en mayúscula."
      ]
    },
    {
      "cell_type": "code",
      "execution_count": 5,
      "id": "WVl9cxwAepeq",
      "metadata": {
        "colab": {
          "base_uri": "https://localhost:8080/"
        },
        "id": "WVl9cxwAepeq",
        "outputId": "0b076de3-eed9-4ab0-e21b-24c88e38f59d"
      },
      "outputs": [
        {
          "name": "stdout",
          "output_type": "stream",
          "text": [
            "Ingrese su nombre y appellido por favor alan erriu\n",
            "alan erriu\n",
            "ALAN ERRIU\n",
            "Alan Erriu\n"
          ]
        }
      ],
      "source": [
        "nombreApellido = input('Ingrese su nombre y appellido por favor ')\n",
        "\n",
        "print(nombreApellido.lower())\n",
        "print(nombreApellido.upper())\n",
        "print(nombreApellido.title())\n"
      ]
    },
    {
      "cell_type": "markdown",
      "id": "d66a4f32",
      "metadata": {
        "id": "d66a4f32"
      },
      "source": [
        "### 1.3\n",
        "Se tiene un dataset cuyos numeros telefonico siguen el siguiente formato: *prefijo-número-extension*\n",
        "\n",
        "Ejemplo: +34-913724710-56\n",
        "\n",
        "- Dado un numero telefonico, se pide mostrar en consola el siguiente mensaje:\n",
        "\n",
        "Su numero de telefono es: +34-913724710-56, Prefijo: 34, Numero: 913724710 y Extension: 56*\n",
        "\n",
        "Nombre = input(\"Cual es tu nombre ? \") **Ojo: no se vale contar caracteres, ya que la longitud tanto del prefijo, numero y extension podrian variar.**"
      ]
    },
    {
      "cell_type": "code",
      "execution_count": 7,
      "id": "d4ea0aa7",
      "metadata": {
        "colab": {
          "base_uri": "https://localhost:8080/"
        },
        "id": "d4ea0aa7",
        "outputId": "0bd24407-4706-4493-f5f9-6c92c5c1db22"
      },
      "outputs": [
        {
          "name": "stdout",
          "output_type": "stream",
          "text": [
            "Su numero de telefono es: +34-913724710-56, Prefijo: +34, Numero: 913724710 y Extension: 56\n"
          ]
        }
      ],
      "source": [
        "#Ejemplo: +34-913724710-56\n",
        "\n",
        "numero = '+34-913724710-56'\n",
        "listaNumero = numero.split('-')\n",
        "listaNumero\n",
        "print(f'Su numero de telefono es: {numero}, Prefijo: {listaNumero[0]}, Numero: {listaNumero[1]} y Extension: {listaNumero[2]}')"
      ]
    },
    {
      "cell_type": "code",
      "execution_count": null,
      "id": "9eea64b8-9dfd-4444-9107-fd92d25fc605",
      "metadata": {
        "id": "9eea64b8-9dfd-4444-9107-fd92d25fc605"
      },
      "outputs": [],
      "source": []
    },
    {
      "cell_type": "markdown",
      "id": "1c5f781e",
      "metadata": {
        "id": "1c5f781e"
      },
      "source": [
        "### 1.4\n",
        "Dada la siguiente lista de ``mails_viejos``, pasarla de forma automatizada a la de ``mails_nuevos``"
      ]
    },
    {
      "cell_type": "code",
      "execution_count": 10,
      "id": "50dc1f91",
      "metadata": {
        "id": "50dc1f91"
      },
      "outputs": [],
      "source": [
        "mails_viejos = ['Rihanna@hotmail.com', 'lady_gaga@hotmail.com', 'taylor_swift_red@hotmail.com']\n",
        "#mails_nuevos = ['Rihanna@gmail.com', 'lady_gaga@gmail.com', 'taylor_swift_red@gmail.com']"
      ]
    },
    {
      "cell_type": "code",
      "execution_count": 16,
      "id": "bd71b8d9",
      "metadata": {
        "id": "bd71b8d9"
      },
      "outputs": [],
      "source": [
        "def actualizarListaMails(listaEmailViejos:list ,formatoViejoMail:str, formatoNuevoMail:str):\n",
        "  listaMailsNuevos = [mail.replace(formatoViejoMail, formatoNuevoMail) for mail in listaEmailViejos ].copy()\n",
        "  return listaMailsNuevos\n"
      ]
    },
    {
      "cell_type": "code",
      "execution_count": 17,
      "id": "37fbd4b3-79bf-4453-93fb-b24726e8620b",
      "metadata": {
        "colab": {
          "base_uri": "https://localhost:8080/"
        },
        "id": "37fbd4b3-79bf-4453-93fb-b24726e8620b",
        "outputId": "5d0725a2-3abe-4483-8f2d-677e5a251f2d"
      },
      "outputs": [
        {
          "data": {
            "text/plain": [
              "['Rihanna@gmail.com', 'lady_gaga@gmail.com', 'taylor_swift_red@gmail.com']"
            ]
          },
          "execution_count": 17,
          "metadata": {},
          "output_type": "execute_result"
        }
      ],
      "source": [
        "listaMailsNuevos = actualizarListaMails(mails_viejos,'@hotmail.com','@gmail.com')\n",
        "\n",
        "listaMailsNuevos"
      ]
    },
    {
      "cell_type": "markdown",
      "id": "1fe46a66",
      "metadata": {
        "id": "1fe46a66"
      },
      "source": [
        "### 1.5\n",
        "Escribir un script que pregunte al usuario por la contraseña e imprima por pantalla si la contraseña introducida por el usuario coincide con la guardada en la variable **sin tener en cuenta mayúsculas y minúsculas.**"
      ]
    },
    {
      "cell_type": "code",
      "execution_count": 19,
      "id": "ecbf63ed",
      "metadata": {
        "colab": {
          "base_uri": "https://localhost:8080/"
        },
        "id": "ecbf63ed",
        "outputId": "7e574f6b-e4d7-4b53-9e11-dd931d8000bd"
      },
      "outputs": [
        {
          "name": "stdout",
          "output_type": "stream",
          "text": [
            "Ingrese su contraseña 12\n",
            "Vuelve a intenerlo 12\n",
            "Vuelve a intenerlo 12\n",
            "Vuelve a intenerlo 123\n",
            "contraseña correcta\n"
          ]
        }
      ],
      "source": [
        "contraseñaEnDB = \"123\"\n",
        "\n",
        "contraseñaInput = input('Ingrese su contraseña ')\n",
        "\n",
        "while contraseñaEnDB != contraseñaInput:\n",
        "  contraseñaInput = input('Vuelve a intenerlo ')\n",
        "else: print('contraseña correcta')"
      ]
    },
    {
      "cell_type": "code",
      "execution_count": null,
      "id": "c55c38f7",
      "metadata": {
        "id": "c55c38f7"
      },
      "outputs": [],
      "source": []
    },
    {
      "cell_type": "code",
      "execution_count": null,
      "id": "3ba1af4a-c4bb-48f0-a730-47e8c4efb96d",
      "metadata": {
        "id": "3ba1af4a-c4bb-48f0-a730-47e8c4efb96d"
      },
      "outputs": [],
      "source": []
    },
    {
      "cell_type": "markdown",
      "id": "d9d0bf90",
      "metadata": {
        "id": "d9d0bf90"
      },
      "source": [
        "### 1.6\n",
        "Un Banco quiere etiquetar a sus clientes en funcion de su salario para poder saber si puede asignarle o no una tarjeta de crédito. Solo los clientes clase A y B pueden acceder a la tarjeta.\n",
        "\n",
        "| Salario              | Clasificación |\n",
        "|----------------------|---------------|\n",
        "| Menos de 20000       | D             |\n",
        "| Entre 20000 y 50000  | C             |\n",
        "| Entre 50000 y 100000 | B             |\n",
        "| Mas de 100000        | A             |\n",
        "\n",
        "Generar un Script que dado un salario ingresado devuelva que clasificacion tiene y si califica o no para la tarjeta"
      ]
    },
    {
      "cell_type": "code",
      "execution_count": 21,
      "id": "8d65cdc5",
      "metadata": {
        "id": "8d65cdc5"
      },
      "outputs": [],
      "source": [
        "def clasificarClientePorSalario(salario: int):\n",
        "  diccionario = {}\n",
        "  if salario < 20000:\n",
        "     diccionario[salario]=(['D',False])\n",
        "     return diccionario\n",
        "  if salario == 20000 and salario <  50000:\n",
        "     diccionario[salario]=(['C',False])\n",
        "     return diccionario\n",
        "  if salario == 50000 and salario <  100000:\n",
        "     diccionario[salario]=(['B',True])\n",
        "     return diccionario\n",
        "  diccionario[salario]=(['A',True])\n",
        "  return diccionario\n",
        "\n",
        "\n"
      ]
    },
    {
      "cell_type": "code",
      "execution_count": 22,
      "id": "5qpUN7rlS_Ly",
      "metadata": {
        "colab": {
          "base_uri": "https://localhost:8080/"
        },
        "id": "5qpUN7rlS_Ly",
        "outputId": "385d0af4-1bb2-4b0c-d4d7-c050bca07f56"
      },
      "outputs": [
        {
          "data": {
            "text/plain": [
              "{100: ['D', False]}"
            ]
          },
          "execution_count": 22,
          "metadata": {},
          "output_type": "execute_result"
        }
      ],
      "source": [
        "salario =  clasificarClientePorSalario(100)\n",
        "salario"
      ]
    },
    {
      "cell_type": "markdown",
      "id": "252e680e",
      "metadata": {
        "id": "252e680e"
      },
      "source": [
        "### 1.7\n",
        "Mostrar en consola todos los numeros desde el 1 hasta el 1000 que sean capicua (1, 11,101,etc)"
      ]
    },
    {
      "cell_type": "code",
      "execution_count": 25,
      "id": "188cd7f7",
      "metadata": {
        "id": "188cd7f7"
      },
      "outputs": [
        {
          "name": "stdout",
          "output_type": "stream",
          "text": [
            "[1, 2, 3, 4, 5, 6, 7, 8, 9, 11, 22, 33, 44, 55, 66, 77, 88, 99, 101, 111, 121, 131, 141, 151, 161, 171, 181, 191, 202, 212, 222, 232, 242, 252, 262, 272, 282, 292, 303, 313, 323, 333, 343, 353, 363, 373, 383, 393, 404, 414, 424, 434, 444, 454, 464, 474, 484, 494, 505, 515, 525, 535, 545, 555, 565, 575, 585, 595, 606, 616, 626, 636, 646, 656, 666, 676, 686, 696, 707, 717, 727, 737, 747, 757, 767, 777, 787, 797, 808, 818, 828, 838, 848, 858, 868, 878, 888, 898, 909, 919, 929, 939, 949, 959, 969, 979, 989, 999]\n"
          ]
        }
      ],
      "source": [
        "\n",
        "def invertirInt(num: int):\n",
        "    num =  str(num)\n",
        "    palabraSalida = \"\"\n",
        "    for letra in num:\n",
        "     palabraSalida  = letra + palabraSalida\n",
        "    return int(palabraSalida)\n",
        "\n",
        "def obtenerNumerosCapicua():\n",
        "   listaNumerosCapicua = []\n",
        "   for i in range(1,1001):\n",
        "    if i == invertirInt(i):\n",
        "      listaNumerosCapicua.append(i)\n",
        "   return listaNumerosCapicua\n",
        "\n",
        "print(obtenerNumerosCapicua()) \n",
        "      \n",
        "\n"
      ]
    },
    {
      "cell_type": "markdown",
      "id": "ed9775d9",
      "metadata": {
        "id": "ed9775d9"
      },
      "source": [
        "### 1.8\n",
        "Escribir un programa que pida al usuario un número entero y muestre por pantalla un triángulo rectángulo como el de más abajo, de altura al número introducido.\n",
        "\n",
        "1\n",
        "\n",
        "3 1\n",
        "\n",
        "5 3 1\n",
        "\n",
        "7 5 3 1\n",
        "\n",
        "9 7 5 3 1"
      ]
    },
    {
      "cell_type": "code",
      "execution_count": 2,
      "id": "cdc7d43e",
      "metadata": {},
      "outputs": [
        {
          "name": "stdout",
          "output_type": "stream",
          "text": [
            "1\n",
            "1 3\n",
            "1 3 5\n",
            "1 3 5 7\n",
            "1 3 5 7 9\n"
          ]
        }
      ],
      "source": [
        "altura =  int(input('ingrese un numero para crear su triangulo'))\n",
        "\n",
        "# altura = str(altura)\n",
        "num1 = 0\n",
        "num2 = 0\n",
        "str1 = \"\"\n",
        "for i in range(1,altura):\n",
        "     #pirmera vuelta imprimo un solo valor (1)\n",
        "     if num1 == 0:\n",
        "          num1 = i\n",
        "          print(num1)\n",
        "     num2 =  num1 + 2\n",
        "     #num1 conserva el anterior valor\n",
        "     num1 = num2\n",
        "     #le asigno 1 por defecto en la primera vuelta\n",
        "     if str1 == \"\":\n",
        "          str1 = '1'\n",
        "     str1 = str1 + ' ' + str(num2)\n",
        "     print(str1)"
      ]
    },
    {
      "cell_type": "markdown",
      "id": "802a4a06",
      "metadata": {
        "id": "802a4a06"
      },
      "source": [
        "### 2.0\n",
        "\n",
        "Escribir un script que dado un número entero positivo muestre la cuenta atrás desde ese número hasta cero separados por comas.\n"
      ]
    },
    {
      "cell_type": "code",
      "execution_count": 3,
      "id": "7ec3e42b",
      "metadata": {},
      "outputs": [
        {
          "name": "stdout",
          "output_type": "stream",
          "text": [
            "0,1,2,3,4,5,6,7,8,9,\n"
          ]
        }
      ],
      "source": [
        "\n",
        "numeroEntero = 10\n",
        "arrayNumero= []\n",
        "result= \"\"\n",
        "for i in range(0,numeroEntero):\n",
        "    arrayNumero.append(i)\n",
        "arrayNumero\n",
        "for b in arrayNumero:\n",
        "    result = result + str(arrayNumero[b]) +','\n",
        "print(result)\n",
        "\n"
      ]
    },
    {
      "cell_type": "code",
      "execution_count": null,
      "id": "d8b47ee3",
      "metadata": {
        "id": "d8b47ee3"
      },
      "outputs": [],
      "source": []
    },
    {
      "cell_type": "markdown",
      "id": "5926f0b2",
      "metadata": {
        "id": "5926f0b2"
      },
      "source": [
        "### 2.2\n",
        "\n",
        "Escribir un programa que almacene las asignaturas de un curso (por ejemplo Matemáticas, Física, Química, Historia y Lengua) en una lista, pregunte al usuario la nota que ha sacado en cada asignatura y elimine de la lista las asignaturas aprobadas. Al final el programa debe mostrar por pantalla las asignaturas que el usuario tiene que repetir.\n"
      ]
    },
    {
      "cell_type": "code",
      "execution_count": 4,
      "id": "d518931a-fe8c-4236-a332-55cee0ebca5d",
      "metadata": {
        "id": "d518931a-fe8c-4236-a332-55cee0ebca5d"
      },
      "outputs": [
        {
          "name": "stdout",
          "output_type": "stream",
          "text": [
            "['Matemáticas']\n"
          ]
        }
      ],
      "source": [
        "asignaturas = ['Matemáticas', 'Física', 'Química', 'Historia' , 'Lengua']\n",
        "asignaturasParaRendir= []\n",
        "for i in asignaturas:\n",
        "    nota = int(input('ingrese su nota de:' + i))\n",
        "    if nota <= 7:\n",
        "        asignaturasParaRendir.append(i)\n",
        "print(asignaturasParaRendir)"
      ]
    },
    {
      "cell_type": "markdown",
      "id": "54eded8d",
      "metadata": {
        "id": "54eded8d"
      },
      "source": [
        "### 2.3\n",
        "\n",
        "Escribir un programa que pida al usuario una palabra y muestre por pantalla el número de veces que contiene cada vocal.\n"
      ]
    },
    {
      "cell_type": "code",
      "execution_count": 5,
      "id": "757e8b57",
      "metadata": {
        "id": "757e8b57"
      },
      "outputs": [
        {
          "name": "stdout",
          "output_type": "stream",
          "text": [
            "contador a: 1 , contador e: 1 contador i: 1 contador o: 1 contador u: 1\n"
          ]
        }
      ],
      "source": [
        "palabraUsuario = input('ingrese una palabra')\n",
        "contadorA = 0\n",
        "contadorE = 0\n",
        "contadorI = 0\n",
        "contadorO = 0\n",
        "contadorU = 0\n",
        "for i in palabraUsuario:\n",
        "    if i == \"a\" or i == \"A\":\n",
        "        contadorA = contadorA + 1\n",
        "    if i == \"e\" or i == \"E\":\n",
        "        contadorE = contadorE + 1\n",
        "    if i == \"i\" or i == \"I\":\n",
        "        contadorI = contadorI + 1\n",
        "    if i == \"o\" or i == \"O\":\n",
        "        contadorO = contadorO + 1\n",
        "    if i == \"u\" or i == \"U\":\n",
        "        contadorU = contadorU + 1\n",
        "\n",
        "\n",
        "print(f'contador a: {contadorA} , contador e: {contadorE} contador i: {contadorI} contador o: {contadorO} contador u: {contadorU}' )"
      ]
    },
    {
      "cell_type": "markdown",
      "id": "5277a66c",
      "metadata": {
        "id": "5277a66c"
      },
      "source": [
        "### 2.4\n",
        "Escribir un programa que guarde en un diccionario los precios de las frutas de la tabla, pregunte al usuario por una fruta, un número de kilos y muestre por pantalla el precio de ese número de kilos de fruta. Si la fruta no está en el diccionario debe mostrar un mensaje informando de ello.\n",
        "\n",
        "| Fruta   | Precio por Kg |\n",
        "|---------|---------------|\n",
        "| Banana  | 150           |\n",
        "| Manzana | 200           |\n",
        "| Pera    | 180           |\n",
        "| Naranja | 100           |"
      ]
    },
    {
      "cell_type": "code",
      "execution_count": 12,
      "id": "9e346596-f2f1-48cb-8f03-22d75b30baf3",
      "metadata": {
        "id": "9e346596-f2f1-48cb-8f03-22d75b30baf3"
      },
      "outputs": [
        {
          "name": "stdout",
          "output_type": "stream",
          "text": [
            "{'No contamos con esa fruta': 0}\n"
          ]
        }
      ],
      "source": [
        "frutas = {\n",
        "    'Banana':150,\n",
        "    'Manzana':200,\n",
        "    'Pera':180,\n",
        "    'Naranja':100,\n",
        "    }\n",
        "frutaSeleccionadaPorUsuario = input('¿Cual fruta quiere comprar?')\n",
        "kilosDeFrutaSeleccionada = int(input('¿Cuantos kilos quiere comprar?'))\n",
        "resultado = {}\n",
        "for i in frutas:\n",
        "    if frutaSeleccionadaPorUsuario.lower() == i.lower():\n",
        "        resultado[i]=kilosDeFrutaSeleccionada * frutas[i]\n",
        "    else:\n",
        "        resultado['No contamos con esa fruta'] = 0\n",
        "print(resultado)"
      ]
    },
    {
      "cell_type": "markdown",
      "id": "6769d482",
      "metadata": {
        "id": "6769d482"
      },
      "source": [
        "### 2.5\n",
        "\n",
        "Escribir un programa que pregunte una fecha en formato dd/mm/aaaa y muestre por pantalla la misma fecha en formato dd de <mes> de aaaa donde <mes> es el nombre del mes."
      ]
    },
    {
      "cell_type": "code",
      "execution_count": 20,
      "id": "d833a50e",
      "metadata": {
        "id": "d833a50e"
      },
      "outputs": [
        {
          "name": "stdout",
          "output_type": "stream",
          "text": [
            "Modificacion exitosa: 10/Diciembre/2024\n"
          ]
        }
      ],
      "source": [
        "#entiendo que la idea era sin usar librerías para formatear fechas o algo mas avanzado\n",
        "meses = [\n",
        "    \"Enero\", \"Febrero\", \"Marzo\", \"Abril\", \"Mayo\", \"Junio\",\n",
        "    \"Julio\", \"Agosto\", \"Septiembre\", \"Octubre\", \"Noviembre\", \"Diciembre\"\n",
        "]\n",
        "\n",
        "fechaEnArray = input('Ingrese una fecha en formato dd/mm/aaaa por favor').split('/')\n",
        "numeroMes = fechaEnArray[1]\n",
        "nombreMes = meses[int(numeroMes) - 1]\n",
        "print(f'Modificacion exitosa: {fechaEnArray[0]}/{nombreMes}/{fechaEnArray[2]}')\n"
      ]
    },
    {
      "cell_type": "markdown",
      "id": "3d4b9189",
      "metadata": {
        "id": "3d4b9189"
      },
      "source": [
        "### 2.6\n",
        "\n",
        "Escribir una función que reciba una muestra de números en una lista y devuelva su promedio.\n"
      ]
    },
    {
      "cell_type": "code",
      "execution_count": 24,
      "id": "47f8d7ed",
      "metadata": {
        "id": "47f8d7ed"
      },
      "outputs": [
        {
          "data": {
            "text/plain": [
              "2.0"
            ]
          },
          "execution_count": 24,
          "metadata": {},
          "output_type": "execute_result"
        }
      ],
      "source": [
        "def devolverPromedio(listaNumeros:list)->int:\n",
        "    totalAcumulado= 0\n",
        "    for i in listaNumeros:\n",
        "        totalAcumulado = totalAcumulado + i\n",
        "    return totalAcumulado/ len(listaNumeros)\n",
        "promedioTotal = devolverPromedio([2,2,2,2,2]) \n",
        "promedioTotal"
      ]
    },
    {
      "cell_type": "markdown",
      "id": "2e484008",
      "metadata": {
        "id": "2e484008"
      },
      "source": [
        "### 2.7\n",
        "\n",
        "Escribir una funcion que tome un string como parametro y devuelva el string pero en orden inversor\n"
      ]
    },
    {
      "cell_type": "code",
      "execution_count": 35,
      "id": "6c34cd01",
      "metadata": {
        "id": "6c34cd01"
      },
      "outputs": [
        {
          "data": {
            "text/plain": [
              "'aloh'"
            ]
          },
          "execution_count": 35,
          "metadata": {},
          "output_type": "execute_result"
        }
      ],
      "source": [
        "def invertirString(cadena:str)->str:\n",
        "    cadenaInvertida =  ''.join([i for i in reversed(cadena)])\n",
        "    return cadenaInvertida\n",
        "\n",
        "palabraInvertida = invertirString(\"hola\")\n",
        "palabraInvertida"
      ]
    },
    {
      "cell_type": "markdown",
      "id": "ae6c901f",
      "metadata": {
        "id": "ae6c901f"
      },
      "source": [
        "### 2.8\n",
        "Escribir una funcion que tome un string como parametro y devuelva la palabra mas larga en dicho string\n"
      ]
    },
    {
      "cell_type": "code",
      "execution_count": 46,
      "id": "45c77612",
      "metadata": {
        "id": "45c77612"
      },
      "outputs": [
        {
          "data": {
            "text/plain": [
              "'mundooo'"
            ]
          },
          "execution_count": 46,
          "metadata": {},
          "output_type": "execute_result"
        }
      ],
      "source": [
        "def devolverMayor(cadena:str):\n",
        "    palabraMayor =\"\"\n",
        "    arrayCadenas = cadena.split()\n",
        "    for i in arrayCadenas:\n",
        "        if len(i) > len(palabraMayor):\n",
        "            palabraMayor = i\n",
        "    return palabraMayor\n",
        "resultado = devolverMayor(\"hola mundooo\")\n",
        "resultado"
      ]
    },
    {
      "cell_type": "markdown",
      "id": "275d9cb9",
      "metadata": {
        "id": "275d9cb9"
      },
      "source": [
        "### 2.9\n",
        "Escribir una funcion que tome dos strings como parametros y sin importar mayusculas ni minusculas devuelva:\n",
        "- True: si son iguales\n",
        "- False: si son diferentes"
      ]
    },
    {
      "cell_type": "code",
      "execution_count": 63,
      "id": "8376c025",
      "metadata": {
        "id": "8376c025"
      },
      "outputs": [
        {
          "data": {
            "text/plain": [
              "True"
            ]
          },
          "execution_count": 63,
          "metadata": {},
          "output_type": "execute_result"
        }
      ],
      "source": [
        "def compararStrings(str1:str,str2:str):\n",
        "    if str1.lower() == str2.lower(): return True\n",
        "    return False\n",
        "resultado = compararStrings(\"hola\", \"HOLA\")\n",
        "resultado\n",
        "        \n"
      ]
    },
    {
      "cell_type": "markdown",
      "id": "6e2dc662",
      "metadata": {
        "id": "6e2dc662"
      },
      "source": [
        "### 3.0\n",
        "Escribir una funcion que dado una lista de numeros devuelva la multiplicacion de todos ellos\n"
      ]
    },
    {
      "cell_type": "code",
      "execution_count": 62,
      "id": "78bfdcda",
      "metadata": {
        "id": "78bfdcda"
      },
      "outputs": [
        {
          "data": {
            "text/plain": [
              "16"
            ]
          },
          "execution_count": 62,
          "metadata": {},
          "output_type": "execute_result"
        }
      ],
      "source": [
        "def multiplicarListaNumeros(numeros:list):\n",
        "    resultado = 1\n",
        "    for i in numeros:\n",
        "        resultado = resultado * i\n",
        "    return resultado\n",
        "resultado = multiplicarListaNumeros([2,2,2,2])\n",
        "resultado"
      ]
    },
    {
      "cell_type": "markdown",
      "id": "6585e0d5",
      "metadata": {
        "id": "6585e0d5"
      },
      "source": [
        "### 3.1\n",
        "Escribir un programa que reciba una cadena de caracteres y devuelva un diccionario con cada palabra que contiene y su frecuencia.\n"
      ]
    },
    {
      "cell_type": "code",
      "execution_count": 6,
      "id": "2661b6a0",
      "metadata": {
        "id": "2661b6a0"
      },
      "outputs": [
        {
          "data": {
            "text/plain": [
              "{'seba': 2, 'asjdñakjs': 1, 'añlkdjañksjd': 1}"
            ]
          },
          "execution_count": 6,
          "metadata": {},
          "output_type": "execute_result"
        }
      ],
      "source": [
        "def crearDiccionario(cadena:list):\n",
        "    arrayPalbras = cadena.split()\n",
        "    diccionario = {}\n",
        "    for i in arrayPalbras:\n",
        "        diccionario[i] = arrayPalbras.count(i)\n",
        "    return diccionario\n",
        "resultado = crearDiccionario(\"seba seba asjdñakjs añlkdjañksjd\")\n",
        "resultado\n",
        "\n",
        "\n"
      ]
    },
    {
      "cell_type": "code",
      "execution_count": null,
      "id": "b8a8bd0a-2d66-4e54-90a0-6793f2818da9",
      "metadata": {
        "id": "b8a8bd0a-2d66-4e54-90a0-6793f2818da9"
      },
      "outputs": [],
      "source": []
    },
    {
      "cell_type": "markdown",
      "id": "a8a520af",
      "metadata": {
        "id": "a8a520af"
      },
      "source": [
        "## Depuración de errores\n",
        "\n",
        "En cada ejercicio corré el codigo, analizá el error en consola y corregilo"
      ]
    },
    {
      "cell_type": "markdown",
      "id": "3311f451",
      "metadata": {
        "id": "3311f451"
      },
      "source": [
        "### 3.3"
      ]
    },
    {
      "cell_type": "code",
      "execution_count": 10,
      "id": "67458b41",
      "metadata": {
        "id": "67458b41"
      },
      "outputs": [
        {
          "name": "stdout",
          "output_type": "stream",
          "text": [
            "121.0\n"
          ]
        }
      ],
      "source": [
        "base = int(input('Introduce la base imponible de la factura: '))\n",
        "\n",
        "def aplica_iva(base, iva = 21):\n",
        "    porcentaje = (base * iva)/100\n",
        "    base = base + porcentaje\n",
        "    return base\n",
        "print(aplica_iva(base))"
      ]
    },
    {
      "cell_type": "code",
      "execution_count": null,
      "id": "bc85d2fd",
      "metadata": {
        "id": "bc85d2fd"
      },
      "outputs": [],
      "source": []
    },
    {
      "cell_type": "code",
      "execution_count": null,
      "id": "5a170cae-2f0d-47d7-968d-5942705d3307",
      "metadata": {
        "id": "5a170cae-2f0d-47d7-968d-5942705d3307"
      },
      "outputs": [],
      "source": []
    },
    {
      "cell_type": "markdown",
      "id": "7ba7523c",
      "metadata": {
        "id": "7ba7523c"
      },
      "source": [
        "### 3.4"
      ]
    },
    {
      "cell_type": "code",
      "execution_count": 18,
      "id": "7802da60",
      "metadata": {
        "id": "7802da60"
      },
      "outputs": [
        {
          "name": "stdout",
          "output_type": "stream",
          "text": [
            "0\n"
          ]
        }
      ],
      "source": [
        "listin = {'Juan':123456789, 'Pedro':987654321}\n",
        "\n",
        "def elimina(listin, usuario):\n",
        "    if usuario in listin:return  listin.pop(usuario)\n",
        "    return 0\n",
        "\n",
        "print(elimina(listin, 'Pablo'))"
      ]
    },
    {
      "cell_type": "code",
      "execution_count": null,
      "id": "f89d2157",
      "metadata": {
        "id": "f89d2157"
      },
      "outputs": [],
      "source": []
    },
    {
      "cell_type": "code",
      "execution_count": null,
      "id": "1efefc7b-1243-4eed-99ce-5ff147e27ba1",
      "metadata": {
        "id": "1efefc7b-1243-4eed-99ce-5ff147e27ba1"
      },
      "outputs": [],
      "source": []
    }
  ],
  "metadata": {
    "colab": {
      "provenance": []
    },
    "kernelspec": {
      "display_name": "Python 3.9.12 ('base')",
      "language": "python",
      "name": "python3"
    },
    "language_info": {
      "codemirror_mode": {
        "name": "ipython",
        "version": 3
      },
      "file_extension": ".py",
      "mimetype": "text/x-python",
      "name": "python",
      "nbconvert_exporter": "python",
      "pygments_lexer": "ipython3",
      "version": "3.11.9"
    },
    "vscode": {
      "interpreter": {
        "hash": "2d90c038637108ac29aff4d22cdf99e3e2599f922ccc5532827d676edf9e0ab0"
      }
    }
  },
  "nbformat": 4,
  "nbformat_minor": 5
}
